{
 "cells": [
  {
   "cell_type": "markdown",
   "metadata": {},
   "source": [
    "#### Introduction\n",
    "\n",
    "Winter Park is a city near Orlando, Florida. It’s known for its abundant outdoor spaces like leafy Central Park. The Charles Hosmer Morse Museum of American Art showcases glass art by Louis Comfort Tiffany. Overlooking Lake Osceola, the Albin Polasek Museum & Sculpture Gardens displays works by the notable Czech-American artist. By Lake Virginia, Cornell Fine Arts Museum shows antiquities and contemporary works\n",
    "\n",
    "Roger, a young enthusiast, wants to open a Burger Joint in the region of Winter park, and he has consulted us for an ideal location for his setup.\n",
    "\n",
    "#### Business Problem \n",
    "\n",
    "To begin a burger joint, Roger first needs to isolate the places that best suits his venture for which we will need some information about Winter park. Also, we will need to watchout for any competitions and estimate the footfalls for the region.\n",
    "\n",
    "\n",
    "#### Description of the data and how it will be used to solve the problem\n",
    "\n",
    "We will be working with the following data in order to help Roger\n",
    "-\tthe localities of Winter park\n",
    "-\tthe coordinates of these areas\n",
    "-\tfrom Foursquare we will need the following data\n",
    "\t-\tburger joints\n",
    "\t-\toffices \n",
    "\t-\thigh schools\n",
    "\t-\tuniversities\n",
    "\t-\tmusuems\n",
    "\t-\tpark\n",
    "\n",
    "We will then identify possible spot(s) basis the analysis of the above data where Roger can choose to open his burger cafe per his budget."
   ]
  },
  {
   "cell_type": "code",
   "execution_count": null,
   "metadata": {},
   "outputs": [],
   "source": []
  }
 ],
 "metadata": {
  "kernelspec": {
   "display_name": "Python 3",
   "language": "python",
   "name": "python3"
  },
  "language_info": {
   "codemirror_mode": {
    "name": "ipython",
    "version": 3
   },
   "file_extension": ".py",
   "mimetype": "text/x-python",
   "name": "python",
   "nbconvert_exporter": "python",
   "pygments_lexer": "ipython3",
   "version": "3.7.3"
  }
 },
 "nbformat": 4,
 "nbformat_minor": 2
}
