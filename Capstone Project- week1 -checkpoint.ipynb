{
 "cells": [
  {
   "cell_type": "markdown",
   "metadata": {},
   "source": [
    "## Introduction\n",
    "\n",
    "The City of New York, usually referred to as either New York City (NYC) or simply New York (NY), is the most populous city in the United States. With an estimated 2018 population of 8,398,748 distributed over a land area of about 302.6 square miles (784 km2).\n",
    "New York City has been a major point of entry for immigrants; the term \"melting pot\" was coined to describe densely populated immigrant neighborhoods on the Lower East Side. As many as 800 languages are spoken in New York, making it the most linguistically diverse city in the world. English remains the most widely spoken language, although there are areas in the outer boroughs in which up to 25% of people speak English as an alternate language, and/or have limited or no English language fluency. English is least spoken in neighborhoods such as Flushing, Sunset Park, and Corona.\n",
    "\n",
    "A French entrepreneur has come to us for assistance on his new project\n",
    "So as part of this project , we will list and visualize all major parts of New York City that has French Resturants and possible sites for launching a french restaurant.\n",
    "\n",
    "## Data\n",
    "For this project we need the following data :\n",
    "\n",
    "1. New York City data that contains list Boroughs, Neighborhoods along with their latitude and longitude.\n",
    " - Data source : https://cocl.us/new_york_dataset\n",
    " - Description : This data set contains the required information. And we will use this data set to explore various neighborhoods of new york city. \n",
    "2. French resturants in each neighborhood of new york city.\n",
    " - Data source : Fousquare API\n",
    " - Description : By using this api we will get all the venues in each neighborhood. We can filter these venues to get only French Resturants.\n",
    "3. GeoSpace data \n",
    " - Data source : https://data.cityofnewyork.us/City-Government/Borough-Boundaries/tqmj-j8zm\n",
    " - Description : By using this geo space data we will get the New york Borough boundaries that will help us visualize choropleth map.\n",
    "\n",
    "Approach\n",
    "1. Collect the new york city data from https://cocl.us/new_york_dataset\n",
    "2. Using FourSquare API we will find all venues for each neighborhood.\n",
    "3. Filter out all venues that have French Resturants.\n",
    "4. Find rating , tips and like count for each French Resturants using FourSquare API.\n",
    "5. Using rating for each resturant , we will sort that data.\n",
    "6. Visualize the Ranking of neighborhoods using folium library(python)\n",
    "\n",
    "Questions that can be asked using the above mentioned datasets\n",
    "- What is best location in New York City for French Cuisine ?\n",
    "- Which areas have potential French Resturant Market ?\n",
    "- Which all areas lack French Resturant ?\n",
    "- Which is the best place to stay if I prefer French Cuisine ?\n",
    "\n",
    "Analysis\n",
    "- We will import the required libraries for python.\n",
    "- pandas and numpy for handling data.\n",
    "- request module for using FourSquare API.\n",
    "- geopy to get co-ordinates of City of New York.\n",
    "- folium to visualize the results on a map\n"
   ]
  },
  {
   "cell_type": "code",
   "execution_count": null,
   "metadata": {},
   "outputs": [],
   "source": []
  }
 ],
 "metadata": {
  "kernelspec": {
   "display_name": "Python 3",
   "language": "python",
   "name": "python3"
  },
  "language_info": {
   "codemirror_mode": {
    "name": "ipython",
    "version": 3
   },
   "file_extension": ".py",
   "mimetype": "text/x-python",
   "name": "python",
   "nbconvert_exporter": "python",
   "pygments_lexer": "ipython3",
   "version": "3.7.3"
  }
 },
 "nbformat": 4,
 "nbformat_minor": 2
}
